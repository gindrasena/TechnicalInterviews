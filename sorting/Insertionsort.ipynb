{
 "cells": [
  {
   "cell_type": "code",
   "execution_count": 7,
   "metadata": {},
   "outputs": [
    {
     "name": "stdout",
     "output_type": "stream",
     "text": [
      "[1, 2, 3, 4, 6, 7, 8, 9, 10, 12]\n"
     ]
    }
   ],
   "source": [
    "### Insertion sort ####\n",
    "'''Pick an elelement and insert in particular position where it is suppose to be.'''\n",
    "array = [3,2,1,6,7,8,9,10,12,4]\n",
    "for i in range(1,len(array)):\n",
    "    j = i-1\n",
    "    key = array[i]\n",
    "    while(j >= 0 and array[j] > key):\n",
    "        array[j+1]=array[j]\n",
    "        j=j-1\n",
    "    array[j+1]=key\n",
    "print(array)"
   ]
  },
  {
   "cell_type": "code",
   "execution_count": null,
   "metadata": {},
   "outputs": [],
   "source": []
  },
  {
   "cell_type": "code",
   "execution_count": null,
   "metadata": {},
   "outputs": [],
   "source": []
  }
 ],
 "metadata": {
  "kernelspec": {
   "display_name": "Python 3",
   "language": "python",
   "name": "python3"
  },
  "language_info": {
   "codemirror_mode": {
    "name": "ipython",
    "version": 3
   },
   "file_extension": ".py",
   "mimetype": "text/x-python",
   "name": "python",
   "nbconvert_exporter": "python",
   "pygments_lexer": "ipython3",
   "version": "3.7.1"
  }
 },
 "nbformat": 4,
 "nbformat_minor": 2
}
