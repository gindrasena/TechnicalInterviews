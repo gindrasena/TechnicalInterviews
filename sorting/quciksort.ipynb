{
 "cells": [
  {
   "cell_type": "code",
   "execution_count": 22,
   "metadata": {},
   "outputs": [
    {
     "name": "stdout",
     "output_type": "stream",
     "text": [
      "[1, 2, 3, 4, 5, 6, 7, 10, 122]\n"
     ]
    }
   ],
   "source": [
    "### Quick Sort ####\n",
    "### Partition approach #####\n",
    "\n",
    "\n",
    "def partition(array,low,high):\n",
    "    i = low - 1\n",
    "    j = high\n",
    "    pivot = array[high]\n",
    "    for j in range(low,high):\n",
    "        if(pivot > array[j]):\n",
    "            i = i + 1\n",
    "            temp = array[i]\n",
    "            array[i] = array[j]\n",
    "            array[j]=temp\n",
    "    temp=array[high]\n",
    "    array[high]=array[i+1]\n",
    "    array[i+1]=temp\n",
    "    return (i+1)\n",
    "\n",
    "\n",
    "#### Divide and concur method ###\n",
    "## Do an iterative call ####\n",
    "\n",
    "\n",
    "def quicksort(array,low,high):\n",
    "    if(low < high):\n",
    "        pi = partition(array,low,high)\n",
    "        quicksort(array,low,pi-1)\n",
    "        quicksort(array,pi+1,high)\n",
    "if __name__ == \"__main__\":\n",
    "    array = [3,2,1,5,6,7,4,10,122]\n",
    "    low = 0\n",
    "    high = len(array)-1\n",
    "    quicksort(array,low,high)\n",
    "    print(array)\n"
   ]
  },
  {
   "cell_type": "code",
   "execution_count": null,
   "metadata": {},
   "outputs": [],
   "source": []
  },
  {
   "cell_type": "code",
   "execution_count": null,
   "metadata": {},
   "outputs": [],
   "source": []
  },
  {
   "cell_type": "code",
   "execution_count": null,
   "metadata": {},
   "outputs": [],
   "source": []
  }
 ],
 "metadata": {
  "kernelspec": {
   "display_name": "Python 3",
   "language": "python",
   "name": "python3"
  },
  "language_info": {
   "codemirror_mode": {
    "name": "ipython",
    "version": 3
   },
   "file_extension": ".py",
   "mimetype": "text/x-python",
   "name": "python",
   "nbconvert_exporter": "python",
   "pygments_lexer": "ipython3",
   "version": "3.7.1"
  }
 },
 "nbformat": 4,
 "nbformat_minor": 2
}
