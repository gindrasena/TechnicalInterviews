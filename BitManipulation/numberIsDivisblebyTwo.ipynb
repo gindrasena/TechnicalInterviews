{
 "cells": [
  {
   "cell_type": "code",
   "execution_count": 16,
   "metadata": {},
   "outputs": [
    {
     "ename": "SyntaxError",
     "evalue": "unexpected EOF while parsing (<ipython-input-16-517675595352>, line 16)",
     "output_type": "error",
     "traceback": [
      "\u001b[0;36m  File \u001b[0;32m\"<ipython-input-16-517675595352>\"\u001b[0;36m, line \u001b[0;32m16\u001b[0m\n\u001b[0;31m    print(\"%d is not divisible by 2\".format(i)\u001b[0m\n\u001b[0m                                              ^\u001b[0m\n\u001b[0;31mSyntaxError\u001b[0m\u001b[0;31m:\u001b[0m unexpected EOF while parsing\n"
     ]
    }
   ],
   "source": [
    "### Check the number is diving of Two or not ####\n",
    "def  countSetBits(n): \n",
    "    count = 0\n",
    "    while (n != 0): \n",
    "        if(n & 1 == 1):\n",
    "            count = count + 1\n",
    "        n >>= 1\n",
    "    return count \n",
    "  \n",
    "  \n",
    "# Program to test function countSetBits */ \n",
    "i = 32\n",
    "if(1== countSetBits(i)):\n",
    "    print(\"is divisible by 2\")\n",
    "else:\n",
    "    print(\"%d is not divisible by 2\".format(i)"
   ]
  },
  {
   "cell_type": "code",
   "execution_count": null,
   "metadata": {},
   "outputs": [],
   "source": []
  },
  {
   "cell_type": "code",
   "execution_count": null,
   "metadata": {},
   "outputs": [],
   "source": []
  },
  {
   "cell_type": "code",
   "execution_count": null,
   "metadata": {},
   "outputs": [],
   "source": []
  }
 ],
 "metadata": {
  "kernelspec": {
   "display_name": "Python 3",
   "language": "python",
   "name": "python3"
  }
 },
 "nbformat": 4,
 "nbformat_minor": 2
}
