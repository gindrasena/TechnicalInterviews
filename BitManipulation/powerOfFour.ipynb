{
 "cells": [
  {
   "cell_type": "code",
   "execution_count": 15,
   "metadata": {},
   "outputs": [
    {
     "name": "stdout",
     "output_type": "stream",
     "text": [
      "False\n",
      "True\n",
      "False\n",
      "False\n",
      "True\n"
     ]
    }
   ],
   "source": [
    "### Power of Four ###\n",
    "def isPowerOfFour(n): \n",
    "    if (n == 0): \n",
    "        return False\n",
    "    while (n != 1): \n",
    "            if (n % 4 != 0): \n",
    "                return False\n",
    "            n = n // 4\n",
    "              \n",
    "    return True\n",
    "i=[32,8,9,12,24,32]\n",
    "for j in range(0,len(i)-1):\n",
    "    print(isPowerOfFour(j))"
   ]
  },
  {
   "cell_type": "code",
   "execution_count": 16,
   "metadata": {},
   "outputs": [
    {
     "name": "stdout",
     "output_type": "stream",
     "text": [
      "False\n",
      "True\n",
      "False\n",
      "False\n",
      "False\n",
      "False\n"
     ]
    }
   ],
   "source": [
    "def isPowerOfEight(num):\n",
    "    if(num==0):\n",
    "        return False\n",
    "    while(num != 1):\n",
    "        if(num%8 != 0):\n",
    "            return False\n",
    "        num = num//8\n",
    "    return True\n",
    "i=[8,64,24,2,2,1,1]\n",
    "for j in range(0,len(i)-1):\n",
    "    print(isPowerOfEight(j))"
   ]
  },
  {
   "cell_type": "code",
   "execution_count": null,
   "metadata": {},
   "outputs": [],
   "source": []
  }
 ],
 "metadata": {
  "kernelspec": {
   "display_name": "Python 3",
   "language": "python",
   "name": "python3"
  },
  "language_info": {
   "codemirror_mode": {
    "name": "ipython",
    "version": 3
   },
   "file_extension": ".py",
   "mimetype": "text/x-python",
   "name": "python",
   "nbconvert_exporter": "python",
   "pygments_lexer": "ipython3",
   "version": "3.7.1"
  }
 },
 "nbformat": 4,
 "nbformat_minor": 2
}
