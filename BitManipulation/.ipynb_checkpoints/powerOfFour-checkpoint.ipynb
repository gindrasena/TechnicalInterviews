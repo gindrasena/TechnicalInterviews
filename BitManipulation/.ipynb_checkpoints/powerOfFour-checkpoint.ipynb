{
 "cells": [
  {
   "cell_type": "code",
   "execution_count": 14,
   "metadata": {},
   "outputs": [
    {
     "name": "stdout",
     "output_type": "stream",
     "text": [
      "False\n",
      "True\n",
      "False\n",
      "False\n",
      "True\n",
      "False\n"
     ]
    }
   ],
   "source": [
    "### Power of Four ###\n",
    "def isPowerOfFour(n): \n",
    "    if (n == 0): \n",
    "        return False\n",
    "    while (n != 1): \n",
    "            if (n % 4 != 0): \n",
    "                return False\n",
    "            n = n // 4\n",
    "              \n",
    "    return True\n",
    "\n",
    "for j in range(0,len(i)-1):\n",
    "    print(isPowerOfFour(j))"
   ]
  },
  {
   "cell_type": "code",
   "execution_count": null,
   "metadata": {},
   "outputs": [],
   "source": []
  },
  {
   "cell_type": "code",
   "execution_count": null,
   "metadata": {},
   "outputs": [],
   "source": []
  }
 ],
 "metadata": {
  "kernelspec": {
   "display_name": "Python 3",
   "language": "python",
   "name": "python3"
  },
  "language_info": {
   "codemirror_mode": {
    "name": "ipython",
    "version": 3
   },
   "file_extension": ".py",
   "mimetype": "text/x-python",
   "name": "python",
   "nbconvert_exporter": "python",
   "pygments_lexer": "ipython3",
   "version": "3.7.1"
  }
 },
 "nbformat": 4,
 "nbformat_minor": 2
}
