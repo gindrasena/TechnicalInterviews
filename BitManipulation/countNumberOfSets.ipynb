{
 "cells": [
  {
   "cell_type": "code",
   "execution_count": null,
   "metadata": {},
   "outputs": [],
   "source": [
    "### Number of bits set ####\n",
    "\n",
    "def countNoOfbitsSet(num):\n",
    "    count = 0\n",
    "    while(num):\n",
    "        if(num & 1 == 1):\n",
    "            count = count+1\n",
    "        num >>= 1\n",
    "    return count\n",
    "\n",
    "num=32\n",
    "print(countNoOfbitsSet(num))\n"
   ]
  },
  {
   "cell_type": "code",
   "execution_count": null,
   "metadata": {},
   "outputs": [],
   "source": []
  },
  {
   "cell_type": "code",
   "execution_count": null,
   "metadata": {},
   "outputs": [],
   "source": []
  }
 ],
 "metadata": {
  "kernelspec": {
   "display_name": "Python 3",
   "language": "python",
   "name": "python3"
  },
  "language_info": {
   "codemirror_mode": {
    "name": "ipython",
    "version": 3
   },
   "file_extension": ".py",
   "mimetype": "text/x-python",
   "name": "python",
   "nbconvert_exporter": "python",
   "pygments_lexer": "ipython3",
   "version": "3.7.1"
  }
 },
 "nbformat": 4,
 "nbformat_minor": 2
}
