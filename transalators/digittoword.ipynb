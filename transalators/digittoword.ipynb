{
 "cells": [
  {
   "cell_type": "code",
   "execution_count": 22,
   "metadata": {},
   "outputs": [
    {
     "name": "stdout",
     "output_type": "stream",
     "text": [
      "Two Houndered Twenty Four \n"
     ]
    }
   ],
   "source": [
    "##### Dight to word transalation #####\n",
    "one_digit_to_words = {1:\"One\",\n",
    "                 2:\"Two\",\n",
    "                 3:\"Three\",\n",
    "                 4:\"Four\",\n",
    "                 5:\"Five\",\n",
    "                 6:\"Six\",\n",
    "                 7:\"Seven\",\n",
    "                 8:\"Eight\",\n",
    "                 9:\"Nine\",\n",
    "                 0:\"Zero\"}\n",
    "two_digit_to_words = {\n",
    "    10:\"Ten\", 11:\"Eleven\",12:\"Twelve\",13:\"Thirteen\",14:\"Fourteen\",15:\"Fifteen\",\n",
    "    16:\"Sixteen\",17:\"Seventeen\",18:\"Eighteen\",19:\"Nineteen\",20:\"Twenty\",\n",
    "    30:\"Thirty\",40:\"Fourty\",50:\"Fifty\",60:\"Sixty\",70:\"Siventy\",80:\"Eighty\",90:\"Ninety\"}\n",
    "three_digit_words = {\n",
    "    100:\"One Houndered\", 200:\"Two Houndered\", 300:\"Three Houndered\",\n",
    "    400:\"Four Houndered\", 500:\"Five Houndered\", 600:\"Six Houndered\",\n",
    "    700:\"Seven Houndered\",800:\"Eight Houndered\",900:\"Nine Houndered\"\n",
    "}\n",
    "four_digit_words = {\n",
    "    1000:\"One Thousand\", 2000:\"Two Thousand\", 3000:\"Three Thousand\",\n",
    "    4000:\"Four Thousand\", 5000:\"Five Thousand\", 6000:\"Six Thousand\",\n",
    "    7000:\"Seven Thousand\",8000:\"Eight Thousand\",9000:\"Nine Thousand\"\n",
    "}\n",
    "num = 224\n",
    "pos=1\n",
    "words=[[]]\n",
    "a=0\n",
    "while(num!=0):\n",
    "    b=num%10\n",
    "    if(pos == 1):\n",
    "        b=b*1\n",
    "        data= one_digit_to_words[b]\n",
    "        words.append(data)\n",
    "        b=0\n",
    "    if(pos == 2):\n",
    "        b = b*10 \n",
    "        if(b!=0):\n",
    "            data = two_digit_to_words[b]\n",
    "            words.append(data)\n",
    "        b=0\n",
    "    if(pos == 3):\n",
    "        b= b*100\n",
    "        if(b!=0):\n",
    "            data = three_digit_words[b]\n",
    "            words.append(data)\n",
    "        b=0\n",
    "    pos += 1\n",
    "    num = num//10\n",
    "\n",
    "for word in words:\n",
    "    if word == 'Zero':\n",
    "        words.remove(word)\n",
    "string = \"\"\n",
    "n=len(words)-1\n",
    "for i in range(0,n):\n",
    "    string += str(words[n-i]) + \" \"\n",
    "print(string)"
   ]
  },
  {
   "cell_type": "code",
   "execution_count": null,
   "metadata": {},
   "outputs": [],
   "source": []
  },
  {
   "cell_type": "code",
   "execution_count": null,
   "metadata": {},
   "outputs": [],
   "source": []
  },
  {
   "cell_type": "code",
   "execution_count": null,
   "metadata": {},
   "outputs": [],
   "source": []
  }
 ],
 "metadata": {
  "kernelspec": {
   "display_name": "Python 3",
   "language": "python",
   "name": "python3"
  }
 },
 "nbformat": 4,
 "nbformat_minor": 2
}
