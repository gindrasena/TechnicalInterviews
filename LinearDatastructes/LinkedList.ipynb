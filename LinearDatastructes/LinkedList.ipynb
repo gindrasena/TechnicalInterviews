{
 "cells": [
  {
   "cell_type": "code",
   "execution_count": 22,
   "metadata": {},
   "outputs": [
    {
     "name": "stdout",
     "output_type": "stream",
     "text": [
      "Linkedlist initialized!!!\n",
      "LinkedList is empty!!!\n",
      "1\n",
      "2\n",
      "3\n",
      "4\n",
      "5\n",
      "6\n",
      "7\n",
      "8\n",
      "9\n",
      "10\n",
      "11\n",
      "12\n",
      "13\n",
      "14\n",
      "15\n",
      "16\n",
      "17\n",
      "18\n",
      "19\n",
      "20\n",
      "21\n",
      "22\n",
      "23\n",
      "24\n",
      "25\n",
      "26\n",
      "27\n",
      "28\n",
      "29\n",
      "30\n"
     ]
    }
   ],
   "source": [
    "#### LinkedList ####\n",
    "class Node:\n",
    "    def __init__(self,data=None):\n",
    "        self.data = data\n",
    "        self.next = None\n",
    "class LinkedList:\n",
    "    def __init__(self):\n",
    "        print(\"Linkedlist initialized!!!\")\n",
    "        self.head = None\n",
    "\n",
    "    def insert_element_at_end(self,data):\n",
    "        node = Node(data)\n",
    "        if self.head is None:\n",
    "            self.head = node\n",
    "            return\n",
    "        temp = self.head\n",
    "        while(temp.next is not None):\n",
    "            temp = temp.next\n",
    "        temp.next = node\n",
    "\n",
    "    def insert_element_at_begining(self,data):\n",
    "        node = Node(data)\n",
    "        if self.head is None:\n",
    "            self.head = node\n",
    "            return\n",
    "        node.next=self.head\n",
    "        self.head=node\n",
    "        \n",
    "    def print_linkedlist(self):\n",
    "        if self.head is None:\n",
    "            print(\"LinkedList is empty!!!\")\n",
    "            return\n",
    "        temp = self.head\n",
    "        while temp is not None:\n",
    "            print(temp.data)\n",
    "            temp = temp.next\n",
    "if __name__ == \"__main__\":\n",
    "    ll = LinkedList()\n",
    "    ll.print_linkedlist()\n",
    "    for i in range(1,31):\n",
    "        ll.insert_element_at_end(i)\n",
    "    ll.print_linkedlist()"
   ]
  },
  {
   "cell_type": "code",
   "execution_count": null,
   "metadata": {},
   "outputs": [],
   "source": []
  }
 ],
 "metadata": {
  "kernelspec": {
   "display_name": "Python 3",
   "language": "python",
   "name": "python3"
  },
  "language_info": {
   "codemirror_mode": {
    "name": "ipython",
    "version": 3
   },
   "file_extension": ".py",
   "mimetype": "text/x-python",
   "name": "python",
   "nbconvert_exporter": "python",
   "pygments_lexer": "ipython3",
   "version": "3.7.1"
  }
 },
 "nbformat": 4,
 "nbformat_minor": 2
}
