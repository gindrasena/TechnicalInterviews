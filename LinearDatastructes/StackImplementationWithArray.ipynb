{
 "cells": [
  {
   "cell_type": "code",
   "execution_count": 23,
   "metadata": {},
   "outputs": [
    {
     "name": "stdout",
     "output_type": "stream",
     "text": [
      "Popping up element 30\n",
      "Popping up element 29\n",
      "Popping up element 28\n",
      "Popping up element 27\n",
      "Popping up element 26\n",
      "Popping up element 25\n",
      "Popping up element 24\n",
      "Popping up element 23\n",
      "Popping up element 22\n",
      "Popping up element 21\n",
      "Popping up element 20\n",
      "Popping up element 19\n",
      "Popping up element 18\n",
      "Popping up element 17\n",
      "Popping up element 16\n",
      "Popping up element 15\n",
      "Popping up element 14\n",
      "Popping up element 13\n",
      "Popping up element 12\n",
      "Popping up element 11\n",
      "Popping up element 10\n"
     ]
    }
   ],
   "source": [
    "### Stack is linear Data structure ###\n",
    "'''Holds the elements in Last in First Out Manner.\n",
    "  Last element would present at the top'''\n",
    "\n",
    "class Stack:\n",
    "    def __init__(self):\n",
    "        self.stack = []\n",
    "    def size_stack(self):\n",
    "        if (len(self.stack))==0:\n",
    "            return 0\n",
    "        else:\n",
    "            return (len(self.stack))\n",
    "    def stack_push(self,data):\n",
    "        if len(self.stack) == 0:\n",
    "            self.stack.append(data)\n",
    "        else:\n",
    "            self.stack.append(data)\n",
    "\n",
    "    def stack_pop(self):\n",
    "        if len(self.stack) == 0:\n",
    "            print('No elements stores in stack!!')\n",
    "            return -1\n",
    "        else:\n",
    "            data = self.stack[-1]\n",
    "            del[self.stack[-1]]\n",
    "            print(\"Popping up element\",data)\n",
    "\n",
    "if __name__ == \"__main__\":\n",
    "    stk = Stack()\n",
    "    for i in range(10,31):\n",
    "        stk.stack_push(i)\n",
    "    for i in range(stk.size_stack()):\n",
    "        stk.stack_pop()\n",
    "\n",
    "    "
   ]
  },
  {
   "cell_type": "code",
   "execution_count": null,
   "metadata": {},
   "outputs": [],
   "source": []
  }
 ],
 "metadata": {
  "kernelspec": {
   "display_name": "Python 3",
   "language": "python",
   "name": "python3"
  },
  "language_info": {
   "codemirror_mode": {
    "name": "ipython",
    "version": 3
   },
   "file_extension": ".py",
   "mimetype": "text/x-python",
   "name": "python",
   "nbconvert_exporter": "python",
   "pygments_lexer": "ipython3",
   "version": "3.7.1"
  }
 },
 "nbformat": 4,
 "nbformat_minor": 2
}
