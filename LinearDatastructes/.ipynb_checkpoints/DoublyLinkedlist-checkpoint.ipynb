{
 "cells": [
  {
   "cell_type": "code",
   "execution_count": 4,
   "metadata": {},
   "outputs": [
    {
     "name": "stdout",
     "output_type": "stream",
     "text": [
      "20\n",
      "10\n",
      "30\n"
     ]
    }
   ],
   "source": [
    "##### Doubly linked list ####\n",
    "\n",
    "\n",
    "class Node:\n",
    "    def __init__(self,data=None):\n",
    "        self.data = data\n",
    "        self.prev=None\n",
    "        self.next=None\n",
    "\n",
    "class DoublyLinkedList:\n",
    "    def __init__(self):\n",
    "        self.head = None\n",
    "\n",
    "    def insert_element_at_begining(self,data):\n",
    "        node = Node(data)\n",
    "        if self.head is None:\n",
    "            self.head = node\n",
    "            return\n",
    "        node.next=self.head\n",
    "        self.head.prev = node\n",
    "        self.head=node\n",
    "\n",
    "    def insert_element_at_end(self,data):\n",
    "        node = Node(data)\n",
    "        if self.head is None:\n",
    "            self.head = node\n",
    "            return\n",
    "        temp = self.head\n",
    "        while(temp.next is not None):\n",
    "            temp=temp.next\n",
    "        temp.next=node\n",
    "        node.prev = temp\n",
    "\n",
    "            \n",
    "    def print_linkedlist(self):\n",
    "        if self.head is None:\n",
    "            print(\"list is empty!!!\")\n",
    "            return\n",
    "        else:\n",
    "            temp = self.head\n",
    "            while(temp is not None):\n",
    "                print(temp.data)\n",
    "                temp=temp.next\n",
    "if __name__ == \"__main__\":\n",
    "    dll = DoublyLinkedList()\n",
    "    dll.insert_element_at_begining(10)\n",
    "    dll.insert_element_at_begining(20)\n",
    "    dll.insert_element_at_end(30)\n",
    "    dll.print_linkedlist()\n",
    "        \n",
    "        "
   ]
  },
  {
   "cell_type": "code",
   "execution_count": null,
   "metadata": {},
   "outputs": [],
   "source": []
  }
 ],
 "metadata": {
  "kernelspec": {
   "display_name": "Python 3",
   "language": "python",
   "name": "python3"
  }
 },
 "nbformat": 4,
 "nbformat_minor": 2
}
