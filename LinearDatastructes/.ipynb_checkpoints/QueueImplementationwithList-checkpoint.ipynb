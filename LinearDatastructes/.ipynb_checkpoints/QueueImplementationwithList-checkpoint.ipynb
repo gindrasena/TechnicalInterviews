{
 "cells": [
  {
   "cell_type": "code",
   "execution_count": 6,
   "metadata": {},
   "outputs": [
    {
     "name": "stdout",
     "output_type": "stream",
     "text": [
      "Element Inserted in Queue and size is  1\n",
      "Element Inserted in Queue and size is  2\n",
      "Element Inserted in Queue and size is  3\n",
      "Element Inserted in Queue and size is  4\n",
      "Element Inserted in Queue and size is  5\n",
      "Element Inserted in Queue and size is  6\n",
      "Element Inserted in Queue and size is  7\n",
      "Element Inserted in Queue and size is  8\n",
      "Element Inserted in Queue and size is  9\n",
      "Element Inserted in Queue and size is  10\n",
      "Element Inserted in Queue and size is  11\n",
      "Element Inserted in Queue and size is  12\n",
      "Element Inserted in Queue and size is  13\n",
      "Element Inserted in Queue and size is  14\n",
      "Element Inserted in Queue and size is  15\n",
      "Element Inserted in Queue and size is  16\n",
      "Element Inserted in Queue and size is  17\n",
      "Element Inserted in Queue and size is  18\n",
      "Element Inserted in Queue and size is  19\n",
      "Element Inserted in Queue and size is  20\n",
      "Element Inserted in Queue and size is  21\n",
      "Queue first element is : 10\n",
      "Queue first element is : 11\n",
      "Queue first element is : 12\n",
      "Queue first element is : 13\n",
      "Queue first element is : 14\n",
      "Queue first element is : 15\n",
      "Queue first element is : 16\n",
      "Queue first element is : 17\n",
      "Queue first element is : 18\n",
      "Queue first element is : 19\n",
      "Queue first element is : 20\n",
      "Queue first element is : 21\n",
      "Queue first element is : 22\n",
      "Queue first element is : 23\n",
      "Queue first element is : 24\n",
      "Queue first element is : 25\n",
      "Queue first element is : 26\n",
      "Queue first element is : 27\n",
      "Queue first element is : 28\n",
      "Queue first element is : 29\n",
      "Queue first element is : 30\n"
     ]
    }
   ],
   "source": [
    "#### Queue Implementation ###\n",
    "''' Queue is First In First Out data structure.\n",
    "Which ever element insert in first that will come first'''\n",
    "\n",
    "class Queue:\n",
    "    def __init__(self):\n",
    "        self.queue = []\n",
    "    def size_queue(self):\n",
    "        return len(self.queue)\n",
    "    def enqueue(self,data):\n",
    "            self.queue.append(data)\n",
    "            print(\"Element Inserted in Queue and size is \",self.size_queue())\n",
    "    def dequeue(self):\n",
    "        if len(self.queue) == 0:\n",
    "            print(\"Queue is empty!!!\")\n",
    "        else:\n",
    "            data = self.queue.pop(0)\n",
    "            print(\"Queue first element is :\",data)\n",
    "if __name__ == \"__main__\":\n",
    "    que = Queue()\n",
    "    for i in range(10,31):\n",
    "        que.enqueue(i)\n",
    "    for i in range(que.size_queue()):\n",
    "        que.dequeue()"
   ]
  },
  {
   "cell_type": "code",
   "execution_count": null,
   "metadata": {},
   "outputs": [],
   "source": []
  }
 ],
 "metadata": {
  "kernelspec": {
   "display_name": "Python 3",
   "language": "python",
   "name": "python3"
  },
  "language_info": {
   "codemirror_mode": {
    "name": "ipython",
    "version": 3
   },
   "file_extension": ".py",
   "mimetype": "text/x-python",
   "name": "python",
   "nbconvert_exporter": "python",
   "pygments_lexer": "ipython3",
   "version": "3.7.1"
  }
 },
 "nbformat": 4,
 "nbformat_minor": 2
}
