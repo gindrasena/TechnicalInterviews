{
 "cells": [
  {
   "cell_type": "code",
   "execution_count": 6,
   "metadata": {},
   "outputs": [
    {
     "name": "stdout",
     "output_type": "stream",
     "text": [
      "[[], [1, -1, 0], [0, 2, -2], [2, -2, 0], [0, 3, -3], [3, -3, 0], [4, 2, -6]]\n"
     ]
    }
   ],
   "source": [
    "#### Array three sum is equal to zero #####\n",
    "array=[1,-1,0,2,-2,0,3,-3,0,4,2,-6]\n",
    "list_final=[[]]\n",
    "length=len(array)-1\n",
    "for i in range(0,length-1):\n",
    "    if(array[i]+array[i+1]+array[i+2]==0):\n",
    "        l=[array[i],array[i+1],array[i+2]]\n",
    "        list_final.append(l)\n",
    "print(list_final)        \n"
   ]
  },
  {
   "cell_type": "code",
   "execution_count": null,
   "metadata": {},
   "outputs": [],
   "source": []
  }
 ],
 "metadata": {
  "kernelspec": {
   "display_name": "Python 3",
   "language": "python",
   "name": "python3"
  },
  "language_info": {
   "codemirror_mode": {
    "name": "ipython",
    "version": 3
   },
   "file_extension": ".py",
   "mimetype": "text/x-python",
   "name": "python",
   "nbconvert_exporter": "python",
   "pygments_lexer": "ipython3",
   "version": "3.7.1"
  }
 },
 "nbformat": 4,
 "nbformat_minor": 2
}
