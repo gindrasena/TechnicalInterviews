{
 "cells": [
  {
   "cell_type": "code",
   "execution_count": 9,
   "metadata": {},
   "outputs": [
    {
     "name": "stdout",
     "output_type": "stream",
     "text": [
      "a6b6c5d4e4f5\n"
     ]
    }
   ],
   "source": [
    "##### String decode ####\n",
    "string=\"aaaaaabbbbbbcccccddddeeeefffff\"\n",
    "encoding=\"\"\n",
    "prev_char=''\n",
    "count=1\n",
    "for char in string:\n",
    "    if char != prev_char:\n",
    "        if prev_char:\n",
    "            encoding += prev_char + str(count)\n",
    "        prev_char=char\n",
    "        count = 1\n",
    "    else:\n",
    "        count +=1\n",
    "encoding += prev_char + str(count)\n",
    "print(encoding)"
   ]
  },
  {
   "cell_type": "code",
   "execution_count": 6,
   "metadata": {},
   "outputs": [
    {
     "name": "stdout",
     "output_type": "stream",
     "text": [
      "aaabbbbccccccdd\n"
     ]
    }
   ],
   "source": [
    "string_decode=\"a3b4c6d2\"\n",
    "decode_string=\"\"\n",
    "count=0\n",
    "prev_char=\"\"\n",
    "for char in string_decode:\n",
    "    if char.isdigit():\n",
    "        count += int(char)\n",
    "        decode_string +=prev_char * count\n",
    "        count=0\n",
    "    else:\n",
    "        prev_char=char\n",
    "        count=0\n",
    "print(decode_string)"
   ]
  },
  {
   "cell_type": "code",
   "execution_count": null,
   "metadata": {},
   "outputs": [],
   "source": []
  }
 ],
 "metadata": {
  "kernelspec": {
   "display_name": "Python 3",
   "language": "python",
   "name": "python3"
  },
  "language_info": {
   "codemirror_mode": {
    "name": "ipython",
    "version": 3
   },
   "file_extension": ".py",
   "mimetype": "text/x-python",
   "name": "python",
   "nbconvert_exporter": "python",
   "pygments_lexer": "ipython3",
   "version": "3.7.1"
  }
 },
 "nbformat": 4,
 "nbformat_minor": 2
}
